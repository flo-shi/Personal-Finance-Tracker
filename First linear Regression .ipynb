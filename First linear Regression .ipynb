{
 "cells": [
  {
   "cell_type": "markdown",
   "id": "68d066a5",
   "metadata": {},
   "source": [
    " Importing libraries "
   ]
  },
  {
   "cell_type": "code",
   "execution_count": 1,
   "id": "1119bb7f",
   "metadata": {},
   "outputs": [
    {
     "name": "stdout",
     "output_type": "stream",
     "text": [
      "No of rows and columns:  (7, 2)\n",
      " \n"
     ]
    },
    {
     "data": {
      "text/html": [
       "<div>\n",
       "<style scoped>\n",
       "    .dataframe tbody tr th:only-of-type {\n",
       "        vertical-align: middle;\n",
       "    }\n",
       "\n",
       "    .dataframe tbody tr th {\n",
       "        vertical-align: top;\n",
       "    }\n",
       "\n",
       "    .dataframe thead th {\n",
       "        text-align: right;\n",
       "    }\n",
       "</style>\n",
       "<table border=\"1\" class=\"dataframe\">\n",
       "  <thead>\n",
       "    <tr style=\"text-align: right;\">\n",
       "      <th></th>\n",
       "      <th>Month</th>\n",
       "      <th>Total</th>\n",
       "    </tr>\n",
       "  </thead>\n",
       "  <tbody>\n",
       "    <tr>\n",
       "      <th>0</th>\n",
       "      <td>1</td>\n",
       "      <td>11889.00</td>\n",
       "    </tr>\n",
       "    <tr>\n",
       "      <th>1</th>\n",
       "      <td>2</td>\n",
       "      <td>8094.23</td>\n",
       "    </tr>\n",
       "    <tr>\n",
       "      <th>2</th>\n",
       "      <td>3</td>\n",
       "      <td>5351.00</td>\n",
       "    </tr>\n",
       "    <tr>\n",
       "      <th>3</th>\n",
       "      <td>4</td>\n",
       "      <td>9216.00</td>\n",
       "    </tr>\n",
       "    <tr>\n",
       "      <th>4</th>\n",
       "      <td>5</td>\n",
       "      <td>10383.18</td>\n",
       "    </tr>\n",
       "  </tbody>\n",
       "</table>\n",
       "</div>"
      ],
      "text/plain": [
       "   Month     Total \n",
       "0       1  11889.00\n",
       "1       2   8094.23\n",
       "2       3   5351.00\n",
       "3       4   9216.00\n",
       "4       5  10383.18"
      ]
     },
     "execution_count": 1,
     "metadata": {},
     "output_type": "execute_result"
    }
   ],
   "source": [
    "import matplotlib.pyplot as plt #visualization purposes\n",
    "import numpy as np #deals with arrays \n",
    "import pandas as pd # analyze data\n",
    "from scipy import stats #perform linear regression analysis\n",
    "import pickle\n",
    "\n",
    "# Reading data \n",
    "data = pd.read_csv(r'C:\\Users\\pjr\\OneDrive\\Documents\\data science\\Book1.csv')\n",
    "print (\"No of rows and columns: \" ,data.shape)\n",
    "print (' ')\n",
    "data.head()\n",
    "\n"
   ]
  },
  {
   "cell_type": "markdown",
   "id": "02437bd1",
   "metadata": {},
   "source": []
  },
  {
   "cell_type": "code",
   "execution_count": 2,
   "id": "77f2b8e2",
   "metadata": {},
   "outputs": [],
   "source": [
    "# Collecting x and y\n",
    "\n",
    "x = np.array(data['Month '])\n",
    "y = np.array(data['Total '])\n"
   ]
  },
  {
   "cell_type": "markdown",
   "id": "7fcd776c",
   "metadata": {},
   "source": [
    " \n"
   ]
  },
  {
   "cell_type": "code",
   "execution_count": 3,
   "id": "d2c40b5f",
   "metadata": {},
   "outputs": [],
   "source": [
    "# x and y values should be converted to arrays \n",
    "slope, intercept, r, p, std_err = stats.linregress (x,y)"
   ]
  },
  {
   "cell_type": "code",
   "execution_count": 4,
   "id": "acca831b",
   "metadata": {},
   "outputs": [
    {
     "data": {
      "image/png": "[encoded data removed]",
      "text/plain": [
       "<Figure size 640x480 with 1 Axes>"
      ]
     },
     "metadata": {},
     "output_type": "display_data"
    }
   ],
   "source": [
    "# function to find and list the estimated y value\n",
    "def prd_y(x):\n",
    "    return slope * x + intercept\n",
    "\n",
    "pred_y = list(map(prd_y, x))\n",
    "\n",
    "plt.scatter(x,y)\n",
    "plt.plot(x,pred_y)\n",
    "plt.show()\n"
   ]
  },
  {
   "cell_type": "code",
   "execution_count": 5,
   "id": "6e16b618",
   "metadata": {},
   "outputs": [
    {
     "name": "stdout",
     "output_type": "stream",
     "text": [
      "0.755378261529646\n"
     ]
    }
   ],
   "source": [
    "# Goodness of fit\n",
    "print(r)"
   ]
  },
  {
   "cell_type": "markdown",
   "id": "f9d24d68",
   "metadata": {},
   "source": [
    "At 0.75 as our correlation coefficient, we can clearly assume that our prediction model is fairly good."
   ]
  },
  {
   "cell_type": "code",
   "execution_count": 7,
   "id": "a1f2ec0d",
   "metadata": {},
   "outputs": [],
   "source": [
    "\n",
    "\n",
    "model_parameters = {\n",
    "    'coefficients': slope,\n",
    "    'intercept': intercept,\n",
    "    # Any other necessary information about the model\n",
    "}\n",
    "\n",
    "with open('linear_regression_model.pkl', 'wb') as f:\n",
    "    pickle.dump(model_parameters, f)\n"
   ]
  }
 ],
 "metadata": {
  "kernelspec": {
   "display_name": "Python 3 (ipykernel)",
   "language": "python",
   "name": "python3"
  },
  "language_info": {
   "codemirror_mode": {
    "name": "ipython",
    "version": 3
   },
   "file_extension": ".py",
   "mimetype": "text/x-python",
   "name": "python",
   "nbconvert_exporter": "python",
   "pygments_lexer": "ipython3",
   "version": "3.10.9"
  }
 },
 "nbformat": 4,
 "nbformat_minor": 5
}
